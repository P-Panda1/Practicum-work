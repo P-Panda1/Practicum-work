{
 "cells": [
  {
   "cell_type": "code",
   "execution_count": 1,
   "metadata": {},
   "outputs": [],
   "source": [
    "import os\n",
    "import pandas as pd\n",
    "from tqdm import tqdm  # For progress tracking\n",
    "from cftsdata import abr\n",
    "\n",
    "# Define paths\n",
    "source_dir = os.path.abspath(\n",
    "    \"../../../../data/practicum-data/ABRpresto data/ABRpresto data\")\n",
    "destination_dir = os.path.abspath(\n",
    "    \"../../../data/practicum-data/ABRpresto data/processed_data\")\n",
    "output_file = os.path.join(destination_dir, \"updated_processed_waveforms.csv\")\n",
    "\n",
    "# Ensure destination directory exists\n",
    "os.makedirs(destination_dir, exist_ok=True)\n",
    "\n",
    "# Initialize list to store processed data\n",
    "all_data = []\n",
    "\n",
    "# Get list of folders in the source directory\n",
    "folders = [f for f in os.listdir(\n",
    "    source_dir) if os.path.isdir(os.path.join(source_dir, f))]\n"
   ]
  },
  {
   "cell_type": "code",
   "execution_count": 2,
   "metadata": {},
   "outputs": [],
   "source": [
    "def extract_metadata(folder_name):\n",
    "    \"\"\"Extract mouse_id, time_point, and ear from folder name.\"\"\"\n",
    "    parts = folder_name.split('_')\n",
    "    mouse_id = parts[0].replace('Mouse', '')\n",
    "    time_point = parts[1].replace('timepoint', '')\n",
    "    ear = parts[2]  # Assumes ear is always in the third part\n",
    "    return mouse_id, time_point, ear\n"
   ]
  },
  {
   "cell_type": "code",
   "execution_count": 3,
   "metadata": {},
   "outputs": [],
   "source": [
    "def process_folders_in_batches(folders, batch_num, total_batches=10):\n",
    "    \"\"\"Processes a specific batch of folders based on batch number.\"\"\"\n",
    "    batch_size = len(folders) // total_batches\n",
    "    start_idx = batch_num * batch_size\n",
    "    end_idx = (batch_num + 1) * batch_size if batch_num < total_batches - 1 else len(folders)\n",
    "\n",
    "    print(f\"Processing batch {batch_num + 1}/{total_batches}: Folders {start_idx} to {end_idx}\")\n",
    "\n",
    "    for folder in tqdm(folders[start_idx:end_idx], desc=f\"Batch {batch_num + 1} Progress\"):\n",
    "        folder_path = os.path.join(source_dir, folder)\n",
    "        mouse_id, time_point, ear = extract_metadata(folder)\n",
    "\n",
    "        # Ensure only the first part of 'ear' is used (assuming it’s separated by non-alphanumeric characters)\n",
    "        ear = ear.split()[0] if isinstance(ear, str) else ear  # Keeps only the first part\n",
    "\n",
    "        try:\n",
    "            # Print folder name for debugging\n",
    "            print(f\"Processing folder: {folder}\")\n",
    "\n",
    "            # Load ABR data\n",
    "            try:\n",
    "                fh = abr.load(folder_path)\n",
    "            except Exception as e:\n",
    "                print(f\"Skipping {folder} due to error in abr.load: {e}\")\n",
    "                continue\n",
    "\n",
    "            try:\n",
    "                epochs = fh.get_epochs_filtered()\n",
    "                if epochs.empty:\n",
    "                    raise ValueError(\"Epochs data is empty\")\n",
    "                epochs_mean = epochs.groupby(['frequency', 'level']).mean()\n",
    "            except Exception as e:\n",
    "                print(f\"Skipping {folder} due to error in get_epochs_filtered: {e}\")\n",
    "                continue\n",
    "\n",
    "            # Process each frequency-level pair\n",
    "            for (freq, level), group in epochs_mean.iterrows():\n",
    "                wave_data = group.values  # Replace with actual waveform column if needed\n",
    "\n",
    "                # Convert wave array into separate columns with integer keys\n",
    "                wave_dict = {i + 1: val for i, val in enumerate(wave_data)}\n",
    "\n",
    "                # Append to list\n",
    "                all_data.append({\n",
    "                    'mouse_id': mouse_id,\n",
    "                    'time_point': time_point,\n",
    "                    'ear': ear,\n",
    "                    'frequency': freq,\n",
    "                    'level': level,\n",
    "                    **wave_dict\n",
    "                })\n",
    "        except Exception as e:\n",
    "            print(f\"Error processing {folder}: {e}\")\n"
   ]
  },
  {
   "cell_type": "code",
   "execution_count": 4,
   "metadata": {},
   "outputs": [
    {
     "name": "stdout",
     "output_type": "stream",
     "text": [
      "Processing batch 1/10: Folders 0 to 110\n"
     ]
    },
    {
     "name": "stderr",
     "output_type": "stream",
     "text": [
      "Batch 1 Progress:   0%|          | 0/110 [00:00<?, ?it/s]"
     ]
    },
    {
     "name": "stdout",
     "output_type": "stream",
     "text": [
      "Processing folder: Mouse155_timepoint1_left abr_io\n"
     ]
    },
    {
     "name": "stderr",
     "output_type": "stream",
     "text": [
      "Batch 1 Progress:   1%|          | 1/110 [00:01<03:18,  1.82s/it]"
     ]
    },
    {
     "name": "stdout",
     "output_type": "stream",
     "text": [
      "Processing folder: Mouse336_timepoint0_right abr_io\n"
     ]
    },
    {
     "name": "stderr",
     "output_type": "stream",
     "text": [
      "Batch 1 Progress:   2%|▏         | 2/110 [00:03<03:02,  1.69s/it]"
     ]
    },
    {
     "name": "stdout",
     "output_type": "stream",
     "text": [
      "Processing folder: Mouse156_timepoint4_left abr_io\n"
     ]
    },
    {
     "name": "stderr",
     "output_type": "stream",
     "text": [
      "Batch 1 Progress:   3%|▎         | 3/110 [00:05<02:56,  1.65s/it]"
     ]
    },
    {
     "name": "stdout",
     "output_type": "stream",
     "text": [
      "Processing folder: Mouse274_timepoint1_left abr_io\n"
     ]
    },
    {
     "name": "stderr",
     "output_type": "stream",
     "text": [
      "Batch 1 Progress:   4%|▎         | 4/110 [00:05<02:15,  1.28s/it]"
     ]
    },
    {
     "name": "stdout",
     "output_type": "stream",
     "text": [
      "Processing folder: Mouse223_timepoint0_right abr_io\n"
     ]
    },
    {
     "name": "stderr",
     "output_type": "stream",
     "text": [
      "Batch 1 Progress:   5%|▍         | 5/110 [00:06<02:11,  1.26s/it]"
     ]
    },
    {
     "name": "stdout",
     "output_type": "stream",
     "text": [
      "Processing folder: Mouse155_timepoint2_right abr_io\n"
     ]
    },
    {
     "name": "stderr",
     "output_type": "stream",
     "text": [
      "Batch 1 Progress:   5%|▌         | 6/110 [00:09<02:40,  1.54s/it]"
     ]
    },
    {
     "name": "stdout",
     "output_type": "stream",
     "text": [
      "Processing folder: Mouse41_timepoint1_left abr_io\n"
     ]
    },
    {
     "name": "stderr",
     "output_type": "stream",
     "text": [
      "Batch 1 Progress:   6%|▋         | 7/110 [00:10<02:47,  1.63s/it]"
     ]
    },
    {
     "name": "stdout",
     "output_type": "stream",
     "text": [
      "Processing folder: Mouse39_timepoint0_right abr_io\n"
     ]
    },
    {
     "name": "stderr",
     "output_type": "stream",
     "text": [
      "Batch 1 Progress:   7%|▋         | 8/110 [00:12<02:52,  1.69s/it]"
     ]
    },
    {
     "name": "stdout",
     "output_type": "stream",
     "text": [
      "Processing folder: Mouse184_timepoint0_left abr_io\n"
     ]
    },
    {
     "name": "stderr",
     "output_type": "stream",
     "text": [
      "Batch 1 Progress:   8%|▊         | 9/110 [00:14<02:48,  1.67s/it]"
     ]
    },
    {
     "name": "stdout",
     "output_type": "stream",
     "text": [
      "Processing folder: Mouse211_timepoint0_left abr_io\n"
     ]
    },
    {
     "name": "stderr",
     "output_type": "stream",
     "text": [
      "Batch 1 Progress:   9%|▉         | 10/110 [00:16<02:49,  1.70s/it]"
     ]
    },
    {
     "name": "stdout",
     "output_type": "stream",
     "text": [
      "Processing folder: Mouse24_timepoint0_left abr_io\n"
     ]
    },
    {
     "name": "stderr",
     "output_type": "stream",
     "text": [
      "Batch 1 Progress:  10%|█         | 11/110 [00:17<02:49,  1.72s/it]"
     ]
    },
    {
     "name": "stdout",
     "output_type": "stream",
     "text": [
      "Processing folder: Mouse76_timepoint0_right abr_io\n"
     ]
    },
    {
     "name": "stderr",
     "output_type": "stream",
     "text": [
      "Batch 1 Progress:  11%|█         | 12/110 [00:19<02:35,  1.59s/it]"
     ]
    },
    {
     "name": "stdout",
     "output_type": "stream",
     "text": [
      "Processing folder: Mouse145_timepoint0_left abr_io\n"
     ]
    },
    {
     "name": "stderr",
     "output_type": "stream",
     "text": [
      "Batch 1 Progress:  12%|█▏        | 13/110 [00:20<02:25,  1.50s/it]"
     ]
    },
    {
     "name": "stdout",
     "output_type": "stream",
     "text": [
      "Processing folder: Mouse51_timepoint0_left abr_io\n"
     ]
    },
    {
     "name": "stderr",
     "output_type": "stream",
     "text": [
      "Batch 1 Progress:  13%|█▎        | 14/110 [00:21<02:06,  1.32s/it]"
     ]
    },
    {
     "name": "stdout",
     "output_type": "stream",
     "text": [
      "Processing folder: Mouse131_timepoint3_left abr_io\n"
     ]
    },
    {
     "name": "stderr",
     "output_type": "stream",
     "text": [
      "Batch 1 Progress:  14%|█▎        | 15/110 [00:22<02:13,  1.40s/it]"
     ]
    },
    {
     "name": "stdout",
     "output_type": "stream",
     "text": [
      "Processing folder: Mouse208_timepoint4_left abr_io\n"
     ]
    },
    {
     "name": "stderr",
     "output_type": "stream",
     "text": [
      "Batch 1 Progress:  15%|█▍        | 16/110 [00:24<02:20,  1.50s/it]"
     ]
    },
    {
     "name": "stdout",
     "output_type": "stream",
     "text": [
      "Processing folder: Mouse50_timepoint3_left abr_io\n"
     ]
    },
    {
     "name": "stderr",
     "output_type": "stream",
     "text": [
      "Batch 1 Progress:  15%|█▌        | 17/110 [00:25<01:56,  1.25s/it]"
     ]
    },
    {
     "name": "stdout",
     "output_type": "stream",
     "text": [
      "Processing folder: Mouse130_timepoint0_left abr_io\n"
     ]
    },
    {
     "name": "stderr",
     "output_type": "stream",
     "text": [
      "Batch 1 Progress:  16%|█▋        | 18/110 [00:26<02:06,  1.37s/it]"
     ]
    },
    {
     "name": "stdout",
     "output_type": "stream",
     "text": [
      "Processing folder: Mouse265_timepoint3_left abr_io\n"
     ]
    },
    {
     "name": "stderr",
     "output_type": "stream",
     "text": [
      "Batch 1 Progress:  17%|█▋        | 19/110 [00:28<02:16,  1.50s/it]"
     ]
    },
    {
     "name": "stdout",
     "output_type": "stream",
     "text": [
      "Processing folder: Mouse90_timepoint0_left abr_io\n"
     ]
    },
    {
     "name": "stderr",
     "output_type": "stream",
     "text": [
      "Batch 1 Progress:  18%|█▊        | 20/110 [00:30<02:25,  1.61s/it]"
     ]
    },
    {
     "name": "stdout",
     "output_type": "stream",
     "text": [
      "Processing folder: Mouse256_timepoint1_right abr_io\n"
     ]
    },
    {
     "name": "stderr",
     "output_type": "stream",
     "text": [
      "Batch 1 Progress:  19%|█▉        | 21/110 [00:31<02:13,  1.50s/it]"
     ]
    },
    {
     "name": "stdout",
     "output_type": "stream",
     "text": [
      "Processing folder: Mouse264_timepoint0_left abr_io\n"
     ]
    },
    {
     "name": "stderr",
     "output_type": "stream",
     "text": [
      "Batch 1 Progress:  20%|██        | 22/110 [00:32<01:55,  1.31s/it]Missing epochs 77830\n"
     ]
    },
    {
     "name": "stdout",
     "output_type": "stream",
     "text": [
      "Processing folder: Mouse317_timepoint0_left abr_io\n"
     ]
    },
    {
     "name": "stderr",
     "output_type": "stream",
     "text": [
      "Batch 1 Progress:  21%|██        | 23/110 [00:34<02:06,  1.45s/it]"
     ]
    },
    {
     "name": "stdout",
     "output_type": "stream",
     "text": [
      "Processing folder: Mouse91_timepoint3_left abr_io\n"
     ]
    },
    {
     "name": "stderr",
     "output_type": "stream",
     "text": [
      "Batch 1 Progress:  22%|██▏       | 24/110 [00:35<02:00,  1.40s/it]"
     ]
    },
    {
     "name": "stdout",
     "output_type": "stream",
     "text": [
      "Processing folder: Mouse265_timepoint5_right abr_io\n"
     ]
    },
    {
     "name": "stderr",
     "output_type": "stream",
     "text": [
      "Batch 1 Progress:  23%|██▎       | 25/110 [00:37<02:07,  1.50s/it]"
     ]
    },
    {
     "name": "stdout",
     "output_type": "stream",
     "text": [
      "Processing folder: Mouse60_timepoint0_left abr_io\n"
     ]
    },
    {
     "name": "stderr",
     "output_type": "stream",
     "text": [
      "Batch 1 Progress:  24%|██▎       | 26/110 [00:38<01:48,  1.29s/it]"
     ]
    },
    {
     "name": "stdout",
     "output_type": "stream",
     "text": [
      "Processing folder: Mouse295_timepoint3_left abr_io\n"
     ]
    },
    {
     "name": "stderr",
     "output_type": "stream",
     "text": [
      "Batch 1 Progress:  25%|██▍       | 27/110 [00:39<01:31,  1.11s/it]"
     ]
    },
    {
     "name": "stdout",
     "output_type": "stream",
     "text": [
      "Processing folder: Mouse41_timepoint2_right abr_io\n"
     ]
    },
    {
     "name": "stderr",
     "output_type": "stream",
     "text": [
      "Batch 1 Progress:  25%|██▌       | 28/110 [00:41<01:53,  1.38s/it]"
     ]
    },
    {
     "name": "stdout",
     "output_type": "stream",
     "text": [
      "Processing folder: Mouse101_timepoint0_left abr_io\n"
     ]
    },
    {
     "name": "stderr",
     "output_type": "stream",
     "text": [
      "Batch 1 Progress:  26%|██▋       | 29/110 [00:43<02:09,  1.60s/it]"
     ]
    },
    {
     "name": "stdout",
     "output_type": "stream",
     "text": [
      "Processing folder: Mouse294_timepoint0_left abr_io\n"
     ]
    },
    {
     "name": "stderr",
     "output_type": "stream",
     "text": [
      "Batch 1 Progress:  27%|██▋       | 30/110 [00:43<01:45,  1.32s/it]"
     ]
    },
    {
     "name": "stdout",
     "output_type": "stream",
     "text": [
      "Processing folder: Mouse47_timepoint0_right abr_io\n"
     ]
    },
    {
     "name": "stderr",
     "output_type": "stream",
     "text": [
      "Batch 1 Progress:  28%|██▊       | 31/110 [00:45<01:54,  1.45s/it]"
     ]
    },
    {
     "name": "stdout",
     "output_type": "stream",
     "text": [
      "Processing folder: Mouse255_timepoint0_left abr_io\n"
     ]
    },
    {
     "name": "stderr",
     "output_type": "stream",
     "text": [
      "Batch 1 Progress:  29%|██▉       | 32/110 [00:47<01:55,  1.48s/it]"
     ]
    },
    {
     "name": "stdout",
     "output_type": "stream",
     "text": [
      "Processing folder: Mouse326_timepoint0_left abr_io\n"
     ]
    },
    {
     "name": "stderr",
     "output_type": "stream",
     "text": [
      "Batch 1 Progress:  30%|███       | 33/110 [00:48<01:52,  1.47s/it]"
     ]
    },
    {
     "name": "stdout",
     "output_type": "stream",
     "text": [
      "Processing folder: Mouse79_timepoint0_right abr_io\n"
     ]
    },
    {
     "name": "stderr",
     "output_type": "stream",
     "text": [
      "Batch 1 Progress:  31%|███       | 34/110 [00:50<01:53,  1.50s/it]"
     ]
    },
    {
     "name": "stdout",
     "output_type": "stream",
     "text": [
      "Processing folder: Mouse265_timepoint2_right abr_io\n"
     ]
    },
    {
     "name": "stderr",
     "output_type": "stream",
     "text": [
      "Batch 1 Progress:  32%|███▏      | 35/110 [00:51<01:59,  1.59s/it]"
     ]
    },
    {
     "name": "stdout",
     "output_type": "stream",
     "text": [
      "Processing folder: Mouse348_timepoint0_right abr_io\n"
     ]
    },
    {
     "name": "stderr",
     "output_type": "stream",
     "text": [
      "Batch 1 Progress:  33%|███▎      | 36/110 [00:53<01:55,  1.57s/it]"
     ]
    },
    {
     "name": "stdout",
     "output_type": "stream",
     "text": [
      "Processing folder: Mouse115_timepoint2_right abr_io\n"
     ]
    },
    {
     "name": "stderr",
     "output_type": "stream",
     "text": [
      "Batch 1 Progress:  34%|███▎      | 37/110 [00:54<01:37,  1.33s/it]"
     ]
    },
    {
     "name": "stdout",
     "output_type": "stream",
     "text": [
      "Processing folder: Mouse220_timepoint0_left abr_io\n"
     ]
    },
    {
     "name": "stderr",
     "output_type": "stream",
     "text": [
      "Batch 1 Progress:  35%|███▍      | 38/110 [00:54<01:21,  1.13s/it]"
     ]
    },
    {
     "name": "stdout",
     "output_type": "stream",
     "text": [
      "Processing folder: Mouse113_timepoint0_right abr_io\n"
     ]
    },
    {
     "name": "stderr",
     "output_type": "stream",
     "text": [
      "Batch 1 Progress:  35%|███▌      | 39/110 [00:55<01:10,  1.00it/s]"
     ]
    },
    {
     "name": "stdout",
     "output_type": "stream",
     "text": [
      "Processing folder: Mouse15_timepoint0_left abr_io\n"
     ]
    },
    {
     "name": "stderr",
     "output_type": "stream",
     "text": [
      "Batch 1 Progress:  36%|███▋      | 40/110 [00:57<01:32,  1.32s/it]"
     ]
    },
    {
     "name": "stdout",
     "output_type": "stream",
     "text": [
      "Processing folder: Mouse117_timepoint1_right abr_io\n"
     ]
    },
    {
     "name": "stderr",
     "output_type": "stream",
     "text": [
      "Batch 1 Progress:  37%|███▋      | 41/110 [00:58<01:28,  1.28s/it]"
     ]
    },
    {
     "name": "stdout",
     "output_type": "stream",
     "text": [
      "Processing folder: Mouse174_timepoint0_left abr_io\n"
     ]
    },
    {
     "name": "stderr",
     "output_type": "stream",
     "text": [
      "Batch 1 Progress:  38%|███▊      | 42/110 [00:59<01:16,  1.13s/it]"
     ]
    },
    {
     "name": "stdout",
     "output_type": "stream",
     "text": [
      "Processing folder: Mouse73_timepoint4_left abr_io\n"
     ]
    },
    {
     "name": "stderr",
     "output_type": "stream",
     "text": [
      "Batch 1 Progress:  39%|███▉      | 43/110 [01:01<01:23,  1.25s/it]"
     ]
    },
    {
     "name": "stdout",
     "output_type": "stream",
     "text": [
      "Processing folder: Mouse336_timepoint1_left abr_io\n"
     ]
    },
    {
     "name": "stderr",
     "output_type": "stream",
     "text": [
      "Batch 1 Progress:  40%|████      | 44/110 [01:02<01:29,  1.35s/it]"
     ]
    },
    {
     "name": "stdout",
     "output_type": "stream",
     "text": [
      "Processing folder: Mouse245_timepoint1_left abr_io\n"
     ]
    },
    {
     "name": "stderr",
     "output_type": "stream",
     "text": [
      "Batch 1 Progress:  41%|████      | 45/110 [01:03<01:25,  1.32s/it]"
     ]
    },
    {
     "name": "stdout",
     "output_type": "stream",
     "text": [
      "Processing folder: Mouse36_timepoint0_right abr_io\n"
     ]
    },
    {
     "name": "stderr",
     "output_type": "stream",
     "text": [
      "Batch 1 Progress:  42%|████▏     | 46/110 [01:05<01:28,  1.38s/it]"
     ]
    },
    {
     "name": "stdout",
     "output_type": "stream",
     "text": [
      "Processing folder: Mouse7_timepoint0_left abr_io\n"
     ]
    },
    {
     "name": "stderr",
     "output_type": "stream",
     "text": [
      "Batch 1 Progress:  43%|████▎     | 47/110 [01:06<01:25,  1.36s/it]"
     ]
    },
    {
     "name": "stdout",
     "output_type": "stream",
     "text": [
      "Processing folder: Mouse212_timepoint0_right abr_io\n"
     ]
    },
    {
     "name": "stderr",
     "output_type": "stream",
     "text": [
      "Batch 1 Progress:  44%|████▎     | 48/110 [01:08<01:28,  1.42s/it]"
     ]
    },
    {
     "name": "stdout",
     "output_type": "stream",
     "text": [
      "Processing folder: Mouse164_timepoint1_left abr_io\n"
     ]
    },
    {
     "name": "stderr",
     "output_type": "stream",
     "text": [
      "Batch 1 Progress:  45%|████▍     | 49/110 [01:09<01:24,  1.38s/it]"
     ]
    },
    {
     "name": "stdout",
     "output_type": "stream",
     "text": [
      "Processing folder: Mouse162_timepoint0_right abr_io\n"
     ]
    },
    {
     "name": "stderr",
     "output_type": "stream",
     "text": [
      "Batch 1 Progress:  45%|████▌     | 50/110 [01:11<01:29,  1.50s/it]"
     ]
    },
    {
     "name": "stdout",
     "output_type": "stream",
     "text": [
      "Processing folder: Mouse339_timepoint0_right abr_io\n"
     ]
    },
    {
     "name": "stderr",
     "output_type": "stream",
     "text": [
      "Batch 1 Progress:  46%|████▋     | 51/110 [01:12<01:23,  1.42s/it]"
     ]
    },
    {
     "name": "stdout",
     "output_type": "stream",
     "text": [
      "Processing folder: Mouse230_timepoint1_left abr_io\n"
     ]
    },
    {
     "name": "stderr",
     "output_type": "stream",
     "text": [
      "Batch 1 Progress:  47%|████▋     | 52/110 [01:13<01:19,  1.38s/it]"
     ]
    },
    {
     "name": "stdout",
     "output_type": "stream",
     "text": [
      "Processing folder: Mouse342_timepoint2_left abr_io\n"
     ]
    },
    {
     "name": "stderr",
     "output_type": "stream",
     "text": [
      "Batch 1 Progress:  48%|████▊     | 53/110 [01:15<01:26,  1.51s/it]"
     ]
    },
    {
     "name": "stdout",
     "output_type": "stream",
     "text": [
      "Processing folder: Mouse33_timepoint1_left abr_io\n"
     ]
    },
    {
     "name": "stderr",
     "output_type": "stream",
     "text": [
      "Batch 1 Progress:  49%|████▉     | 54/110 [01:16<01:09,  1.24s/it]"
     ]
    },
    {
     "name": "stdout",
     "output_type": "stream",
     "text": [
      "Processing folder: Mouse269_timepoint0_left abr_io\n"
     ]
    },
    {
     "name": "stderr",
     "output_type": "stream",
     "text": [
      "Batch 1 Progress:  50%|█████     | 55/110 [01:17<01:13,  1.34s/it]"
     ]
    },
    {
     "name": "stdout",
     "output_type": "stream",
     "text": [
      "Processing folder: Mouse193_timepoint1_left abr_io\n"
     ]
    },
    {
     "name": "stderr",
     "output_type": "stream",
     "text": [
      "Batch 1 Progress:  51%|█████     | 56/110 [01:19<01:20,  1.50s/it]"
     ]
    },
    {
     "name": "stdout",
     "output_type": "stream",
     "text": [
      "Processing folder: Mouse189_timepoint0_left abr_io\n"
     ]
    },
    {
     "name": "stderr",
     "output_type": "stream",
     "text": [
      "Batch 1 Progress:  52%|█████▏    | 57/110 [01:21<01:24,  1.59s/it]"
     ]
    },
    {
     "name": "stdout",
     "output_type": "stream",
     "text": [
      "Processing folder: Mouse300_timepoint1_left abr_io\n"
     ]
    },
    {
     "name": "stderr",
     "output_type": "stream",
     "text": [
      "Batch 1 Progress:  53%|█████▎    | 58/110 [01:21<01:01,  1.19s/it]"
     ]
    },
    {
     "name": "stdout",
     "output_type": "stream",
     "text": [
      "Processing folder: Mouse177_timepoint2_right abr_io\n"
     ]
    },
    {
     "name": "stderr",
     "output_type": "stream",
     "text": [
      "Batch 1 Progress:  54%|█████▎    | 59/110 [01:22<00:52,  1.04s/it]"
     ]
    },
    {
     "name": "stdout",
     "output_type": "stream",
     "text": [
      "Processing folder: Mouse273_timepoint1_left abr_io\n"
     ]
    },
    {
     "name": "stderr",
     "output_type": "stream",
     "text": [
      "Batch 1 Progress:  55%|█████▍    | 60/110 [01:23<00:46,  1.08it/s]"
     ]
    },
    {
     "name": "stdout",
     "output_type": "stream",
     "text": [
      "Processing folder: Mouse87_timepoint1_left abr_io\n"
     ]
    },
    {
     "name": "stderr",
     "output_type": "stream",
     "text": [
      "Batch 1 Progress:  55%|█████▌    | 61/110 [01:25<00:59,  1.21s/it]"
     ]
    },
    {
     "name": "stdout",
     "output_type": "stream",
     "text": [
      "Processing folder: Mouse148_timepoint0_left abr_io\n"
     ]
    },
    {
     "name": "stderr",
     "output_type": "stream",
     "text": [
      "Batch 1 Progress:  56%|█████▋    | 62/110 [01:26<01:07,  1.41s/it]"
     ]
    },
    {
     "name": "stdout",
     "output_type": "stream",
     "text": [
      "Processing folder: Mouse87_timepoint0_right abr_io\n"
     ]
    },
    {
     "name": "stderr",
     "output_type": "stream",
     "text": [
      "Batch 1 Progress:  57%|█████▋    | 63/110 [01:28<01:11,  1.52s/it]"
     ]
    },
    {
     "name": "stdout",
     "output_type": "stream",
     "text": [
      "Processing folder: Mouse29_timepoint0_left abr_io\n"
     ]
    },
    {
     "name": "stderr",
     "output_type": "stream",
     "text": [
      "Batch 1 Progress:  58%|█████▊    | 64/110 [01:30<01:14,  1.61s/it]"
     ]
    },
    {
     "name": "stdout",
     "output_type": "stream",
     "text": [
      "Processing folder: Mouse46_timepoint1_left abr_io\n"
     ]
    },
    {
     "name": "stderr",
     "output_type": "stream",
     "text": [
      "Batch 1 Progress:  59%|█████▉    | 65/110 [01:31<01:08,  1.51s/it]"
     ]
    },
    {
     "name": "stdout",
     "output_type": "stream",
     "text": [
      "Processing folder: Mouse171_timepoint0_right abr_io\n"
     ]
    },
    {
     "name": "stderr",
     "output_type": "stream",
     "text": [
      "Batch 1 Progress:  60%|██████    | 66/110 [01:33<01:05,  1.48s/it]"
     ]
    },
    {
     "name": "stdout",
     "output_type": "stream",
     "text": [
      "Processing folder: Mouse54_timepoint0_right abr_io\n"
     ]
    },
    {
     "name": "stderr",
     "output_type": "stream",
     "text": [
      "Batch 1 Progress:  61%|██████    | 67/110 [01:34<00:54,  1.27s/it]"
     ]
    },
    {
     "name": "stdout",
     "output_type": "stream",
     "text": [
      "Processing folder: Mouse183_timepoint0_left abr_io\n"
     ]
    },
    {
     "name": "stderr",
     "output_type": "stream",
     "text": [
      "Batch 1 Progress:  62%|██████▏   | 68/110 [01:36<01:13,  1.76s/it]"
     ]
    },
    {
     "name": "stdout",
     "output_type": "stream",
     "text": [
      "Processing folder: Mouse216_timepoint0_left abr_io\n"
     ]
    },
    {
     "name": "stderr",
     "output_type": "stream",
     "text": [
      "Batch 1 Progress:  63%|██████▎   | 69/110 [01:38<01:14,  1.81s/it]"
     ]
    },
    {
     "name": "stdout",
     "output_type": "stream",
     "text": [
      "Processing folder: Mouse279_timepoint1_left abr_io\n"
     ]
    },
    {
     "name": "stderr",
     "output_type": "stream",
     "text": [
      "Batch 1 Progress:  64%|██████▎   | 70/110 [01:40<01:08,  1.72s/it]"
     ]
    },
    {
     "name": "stdout",
     "output_type": "stream",
     "text": [
      "Processing folder: Mouse23_timepoint0_left abr_io\n"
     ]
    },
    {
     "name": "stderr",
     "output_type": "stream",
     "text": [
      "Batch 1 Progress:  65%|██████▍   | 71/110 [01:42<01:05,  1.69s/it]"
     ]
    },
    {
     "name": "stdout",
     "output_type": "stream",
     "text": [
      "Processing folder: Mouse143_timepoint3_left abr_io\n"
     ]
    },
    {
     "name": "stderr",
     "output_type": "stream",
     "text": [
      "Batch 1 Progress:  65%|██████▌   | 72/110 [01:43<01:03,  1.68s/it]"
     ]
    },
    {
     "name": "stdout",
     "output_type": "stream",
     "text": [
      "Processing folder: Mouse22_timepoint3_left abr_io\n"
     ]
    },
    {
     "name": "stderr",
     "output_type": "stream",
     "text": [
      "Batch 1 Progress:  66%|██████▋   | 73/110 [01:45<01:02,  1.68s/it]"
     ]
    },
    {
     "name": "stdout",
     "output_type": "stream",
     "text": [
      "Processing folder: Mouse142_timepoint0_left abr_io\n"
     ]
    },
    {
     "name": "stderr",
     "output_type": "stream",
     "text": [
      "Batch 1 Progress:  67%|██████▋   | 74/110 [01:47<01:02,  1.74s/it]"
     ]
    },
    {
     "name": "stdout",
     "output_type": "stream",
     "text": [
      "Processing folder: Mouse52_timepoint2_right abr_io\n"
     ]
    },
    {
     "name": "stderr",
     "output_type": "stream",
     "text": [
      "Batch 1 Progress:  68%|██████▊   | 75/110 [01:48<00:52,  1.50s/it]"
     ]
    },
    {
     "name": "stdout",
     "output_type": "stream",
     "text": [
      "Processing folder: Mouse39_timepoint1_left abr_io\n"
     ]
    },
    {
     "name": "stderr",
     "output_type": "stream",
     "text": [
      "Batch 1 Progress:  69%|██████▉   | 76/110 [01:50<00:57,  1.70s/it]"
     ]
    },
    {
     "name": "stdout",
     "output_type": "stream",
     "text": [
      "Processing folder: Mouse56_timepoint0_left abr_io\n"
     ]
    },
    {
     "name": "stderr",
     "output_type": "stream",
     "text": [
      "Batch 1 Progress:  70%|███████   | 77/110 [01:51<00:48,  1.46s/it]"
     ]
    },
    {
     "name": "stdout",
     "output_type": "stream",
     "text": [
      "Processing folder: Mouse100_timepoint0_right abr_io\n"
     ]
    },
    {
     "name": "stderr",
     "output_type": "stream",
     "text": [
      "Batch 1 Progress:  71%|███████   | 78/110 [01:52<00:40,  1.27s/it]"
     ]
    },
    {
     "name": "stdout",
     "output_type": "stream",
     "text": [
      "Processing folder: Mouse38_timepoint2_left abr_io\n"
     ]
    },
    {
     "name": "stderr",
     "output_type": "stream",
     "text": [
      "Batch 1 Progress:  72%|███████▏  | 79/110 [01:52<00:34,  1.10s/it]"
     ]
    },
    {
     "name": "stdout",
     "output_type": "stream",
     "text": [
      "Processing folder: Mouse137_timepoint0_left abr_io\n"
     ]
    },
    {
     "name": "stderr",
     "output_type": "stream",
     "text": [
      "Batch 1 Progress:  73%|███████▎  | 80/110 [01:54<00:41,  1.38s/it]"
     ]
    },
    {
     "name": "stdout",
     "output_type": "stream",
     "text": [
      "Processing folder: Mouse97_timepoint0_left abr_io\n"
     ]
    },
    {
     "name": "stderr",
     "output_type": "stream",
     "text": [
      "Batch 1 Progress:  73%|███████▎  | 80/110 [01:55<00:43,  1.45s/it]\n"
     ]
    },
    {
     "ename": "KeyboardInterrupt",
     "evalue": "",
     "output_type": "error",
     "traceback": [
      "\u001b[0;31m---------------------------------------------------------------------------\u001b[0m",
      "\u001b[0;31mKeyboardInterrupt\u001b[0m                         Traceback (most recent call last)",
      "Cell \u001b[0;32mIn[4], line 1\u001b[0m\n\u001b[0;32m----> 1\u001b[0m process_folders_in_batches(folders, batch_num\u001b[38;5;241m=\u001b[39m\u001b[38;5;241m0\u001b[39m)\n",
      "Cell \u001b[0;32mIn[3], line 25\u001b[0m, in \u001b[0;36mprocess_folders_in_batches\u001b[0;34m(folders, batch_num, total_batches)\u001b[0m\n\u001b[1;32m     22\u001b[0m     \u001b[38;5;28;01mcontinue\u001b[39;00m\n\u001b[1;32m     24\u001b[0m \u001b[38;5;28;01mtry\u001b[39;00m:\n\u001b[0;32m---> 25\u001b[0m     epochs \u001b[38;5;241m=\u001b[39m fh\u001b[38;5;241m.\u001b[39mget_epochs_filtered()\n\u001b[1;32m     26\u001b[0m     \u001b[38;5;28;01mif\u001b[39;00m epochs\u001b[38;5;241m.\u001b[39mempty:\n\u001b[1;32m     27\u001b[0m         \u001b[38;5;28;01mraise\u001b[39;00m \u001b[38;5;167;01mValueError\u001b[39;00m(\u001b[38;5;124m\"\u001b[39m\u001b[38;5;124mEpochs data is empty\u001b[39m\u001b[38;5;124m\"\u001b[39m)\n",
      "File \u001b[0;32m/opt/anaconda3/lib/python3.11/site-packages/cftsdata/abr.py:156\u001b[0m, in \u001b[0;36mABRFile.get_epochs_filtered\u001b[0;34m(self, filter_lb, filter_ub, filter_order, offset, duration, detrend, pad_duration, downsample, reject_threshold, reject_mode, columns, averages, cb)\u001b[0m\n\u001b[1;32m    146\u001b[0m \u001b[38;5;250m\u001b[39m\u001b[38;5;124;03m'''\u001b[39;00m\n\u001b[1;32m    147\u001b[0m \u001b[38;5;124;03mExtract event-related epochs from filtered EEG\u001b[39;00m\n\u001b[1;32m    148\u001b[0m \n\u001b[0;32m   (...)\u001b[0m\n\u001b[1;32m    153\u001b[0m \u001b[38;5;124;03m{epochs_docstring}\u001b[39;00m\n\u001b[1;32m    154\u001b[0m \u001b[38;5;124;03m'''\u001b[39;00m\n\u001b[1;32m    155\u001b[0m fn \u001b[38;5;241m=\u001b[39m \u001b[38;5;28mself\u001b[39m\u001b[38;5;241m.\u001b[39meeg\u001b[38;5;241m.\u001b[39mget_epochs_filtered\n\u001b[0;32m--> 156\u001b[0m result \u001b[38;5;241m=\u001b[39m fn(md\u001b[38;5;241m=\u001b[39m\u001b[38;5;28mself\u001b[39m\u001b[38;5;241m.\u001b[39merp_metadata, offset\u001b[38;5;241m=\u001b[39moffset, duration\u001b[38;5;241m=\u001b[39mduration,\n\u001b[1;32m    157\u001b[0m             filter_lb\u001b[38;5;241m=\u001b[39mfilter_lb, filter_ub\u001b[38;5;241m=\u001b[39mfilter_ub,\n\u001b[1;32m    158\u001b[0m             filter_order\u001b[38;5;241m=\u001b[39mfilter_order, detrend\u001b[38;5;241m=\u001b[39mdetrend,\n\u001b[1;32m    159\u001b[0m             pad_duration\u001b[38;5;241m=\u001b[39mpad_duration, downsample\u001b[38;5;241m=\u001b[39mdownsample,\n\u001b[1;32m    160\u001b[0m             columns\u001b[38;5;241m=\u001b[39mcolumns, cb\u001b[38;5;241m=\u001b[39mcb)\n\u001b[1;32m    161\u001b[0m result \u001b[38;5;241m=\u001b[39m \u001b[38;5;28mself\u001b[39m\u001b[38;5;241m.\u001b[39m_apply_reject(result, reject_threshold, reject_mode)\n\u001b[1;32m    162\u001b[0m result \u001b[38;5;241m=\u001b[39m \u001b[38;5;28mself\u001b[39m\u001b[38;5;241m.\u001b[39m_apply_n(result, averages)\n",
      "File \u001b[0;32m/opt/anaconda3/lib/python3.11/site-packages/psidata/signal.py:65\u001b[0m, in \u001b[0;36mSignal.get_epochs_filtered\u001b[0;34m(self, md, offset, duration, filter_lb, filter_ub, filter_order, detrend, pad_duration, downsample, columns, cb)\u001b[0m\n\u001b[1;32m     60\u001b[0m \u001b[38;5;28;01mdef\u001b[39;00m \u001b[38;5;21mget_epochs_filtered\u001b[39m(\u001b[38;5;28mself\u001b[39m, md, offset, duration, filter_lb, filter_ub,\n\u001b[1;32m     61\u001b[0m                         filter_order\u001b[38;5;241m=\u001b[39m\u001b[38;5;241m1\u001b[39m, detrend\u001b[38;5;241m=\u001b[39m\u001b[38;5;124m'\u001b[39m\u001b[38;5;124mconstant\u001b[39m\u001b[38;5;124m'\u001b[39m,\n\u001b[1;32m     62\u001b[0m                         pad_duration\u001b[38;5;241m=\u001b[39m\u001b[38;5;241m10e-3\u001b[39m, downsample\u001b[38;5;241m=\u001b[39m\u001b[38;5;28;01mNone\u001b[39;00m,\n\u001b[1;32m     63\u001b[0m                         columns\u001b[38;5;241m=\u001b[39m\u001b[38;5;124m'\u001b[39m\u001b[38;5;124mauto\u001b[39m\u001b[38;5;124m'\u001b[39m, cb\u001b[38;5;241m=\u001b[39m\u001b[38;5;28;01mNone\u001b[39;00m):\n\u001b[1;32m     64\u001b[0m     fn \u001b[38;5;241m=\u001b[39m \u001b[38;5;28mself\u001b[39m\u001b[38;5;241m.\u001b[39mget_segments_filtered\n\u001b[0;32m---> 65\u001b[0m     \u001b[38;5;28;01mreturn\u001b[39;00m \u001b[38;5;28mself\u001b[39m\u001b[38;5;241m.\u001b[39m_get_epochs(fn, md\u001b[38;5;241m=\u001b[39mmd, offset\u001b[38;5;241m=\u001b[39moffset, duration\u001b[38;5;241m=\u001b[39mduration,\n\u001b[1;32m     66\u001b[0m                             filter_lb\u001b[38;5;241m=\u001b[39mfilter_lb, filter_ub\u001b[38;5;241m=\u001b[39mfilter_ub,\n\u001b[1;32m     67\u001b[0m                             filter_order\u001b[38;5;241m=\u001b[39mfilter_order, detrend\u001b[38;5;241m=\u001b[39mdetrend,\n\u001b[1;32m     68\u001b[0m                             pad_duration\u001b[38;5;241m=\u001b[39mpad_duration,\n\u001b[1;32m     69\u001b[0m                             downsample\u001b[38;5;241m=\u001b[39mdownsample, columns\u001b[38;5;241m=\u001b[39mcolumns, cb\u001b[38;5;241m=\u001b[39mcb)\n",
      "File \u001b[0;32m/opt/anaconda3/lib/python3.11/site-packages/psidata/signal.py:77\u001b[0m, in \u001b[0;36mSignal._get_epochs\u001b[0;34m(self, fn, md, columns, *args, **kwargs)\u001b[0m\n\u001b[1;32m     75\u001b[0m arrays \u001b[38;5;241m=\u001b[39m [md[c] \u001b[38;5;28;01mfor\u001b[39;00m c \u001b[38;5;129;01min\u001b[39;00m columns]\n\u001b[1;32m     76\u001b[0m arrays\u001b[38;5;241m.\u001b[39mappend(t0)\n\u001b[0;32m---> 77\u001b[0m df \u001b[38;5;241m=\u001b[39m fn(t0, \u001b[38;5;241m*\u001b[39margs, \u001b[38;5;241m*\u001b[39m\u001b[38;5;241m*\u001b[39mkwargs)\n\u001b[1;32m     78\u001b[0m df\u001b[38;5;241m.\u001b[39mindex \u001b[38;5;241m=\u001b[39m pd\u001b[38;5;241m.\u001b[39mMultiIndex\u001b[38;5;241m.\u001b[39mfrom_arrays(arrays, names\u001b[38;5;241m=\u001b[39mcolumns \u001b[38;5;241m+\u001b[39m [\u001b[38;5;124m'\u001b[39m\u001b[38;5;124mt0\u001b[39m\u001b[38;5;124m'\u001b[39m])\n\u001b[1;32m     79\u001b[0m \u001b[38;5;28;01mreturn\u001b[39;00m df\n",
      "File \u001b[0;32m/opt/anaconda3/lib/python3.11/site-packages/psidata/signal.py:210\u001b[0m, in \u001b[0;36mSignal.get_segments_filtered\u001b[0;34m(self, times, *args, **kwargs)\u001b[0m\n\u001b[1;32m    208\u001b[0m \u001b[38;5;28;01mdef\u001b[39;00m \u001b[38;5;21mget_segments_filtered\u001b[39m(\u001b[38;5;28mself\u001b[39m, times, \u001b[38;5;241m*\u001b[39margs, \u001b[38;5;241m*\u001b[39m\u001b[38;5;241m*\u001b[39mkwargs):\n\u001b[1;32m    209\u001b[0m     fn \u001b[38;5;241m=\u001b[39m functools\u001b[38;5;241m.\u001b[39mpartial(\u001b[38;5;28mself\u001b[39m\u001b[38;5;241m.\u001b[39mget_segments, times)\n\u001b[0;32m--> 210\u001b[0m     \u001b[38;5;28;01mreturn\u001b[39;00m \u001b[38;5;28mself\u001b[39m\u001b[38;5;241m.\u001b[39m_get_segments_filtered(fn, \u001b[38;5;241m*\u001b[39margs, \u001b[38;5;241m*\u001b[39m\u001b[38;5;241m*\u001b[39mkwargs)\n",
      "File \u001b[0;32m/opt/anaconda3/lib/python3.11/site-packages/psidata/signal.py:197\u001b[0m, in \u001b[0;36mSignal._get_segments_filtered\u001b[0;34m(self, fn, offset, duration, filter_lb, filter_ub, filter_order, detrend, pad_duration, downsample, cb)\u001b[0m\n\u001b[1;32m    189\u001b[0m df \u001b[38;5;241m=\u001b[39m fn(offset\u001b[38;5;241m-\u001b[39mpad_duration, duration\u001b[38;5;241m+\u001b[39mpad_duration, detrend\u001b[38;5;241m=\u001b[39mdetrend,\n\u001b[1;32m    190\u001b[0m         downsample\u001b[38;5;241m=\u001b[39mdownsample, cb\u001b[38;5;241m=\u001b[39mcb)\n\u001b[1;32m    192\u001b[0m \u001b[38;5;66;03m# Attempting to write values *back* into the original df (e.g., via\u001b[39;00m\n\u001b[1;32m    193\u001b[0m \u001b[38;5;66;03m# df[:] = result) can take up quite a bit of memory for some bizzare\u001b[39;00m\n\u001b[1;32m    194\u001b[0m \u001b[38;5;66;03m# reason (possibly a bug in a specific version of Pandas). To get\u001b[39;00m\n\u001b[1;32m    195\u001b[0m \u001b[38;5;66;03m# around this limitation, we should just create a new dataframe with\u001b[39;00m\n\u001b[1;32m    196\u001b[0m \u001b[38;5;66;03m# the same index and columns.\u001b[39;00m\n\u001b[0;32m--> 197\u001b[0m filt \u001b[38;5;241m=\u001b[39m signal\u001b[38;5;241m.\u001b[39mfiltfilt(b, a, df\u001b[38;5;241m.\u001b[39mvalues, axis\u001b[38;5;241m=\u001b[39m\u001b[38;5;241m-\u001b[39m\u001b[38;5;241m1\u001b[39m)\n\u001b[1;32m    198\u001b[0m df_filt \u001b[38;5;241m=\u001b[39m pd\u001b[38;5;241m.\u001b[39mDataFrame(filt, index\u001b[38;5;241m=\u001b[39mdf\u001b[38;5;241m.\u001b[39mindex, columns\u001b[38;5;241m=\u001b[39mdf\u001b[38;5;241m.\u001b[39mcolumns)\n\u001b[1;32m    199\u001b[0m \u001b[38;5;28;01mreturn\u001b[39;00m df_filt\u001b[38;5;241m.\u001b[39mloc[:, offset:offset\u001b[38;5;241m+\u001b[39mduration]\n",
      "File \u001b[0;32m/opt/anaconda3/lib/python3.11/site-packages/scipy/signal/_signaltools.py:4213\u001b[0m, in \u001b[0;36mfiltfilt\u001b[0;34m(b, a, x, axis, padtype, padlen, method, irlen)\u001b[0m\n\u001b[1;32m   4210\u001b[0m x0 \u001b[38;5;241m=\u001b[39m axis_slice(ext, stop\u001b[38;5;241m=\u001b[39m\u001b[38;5;241m1\u001b[39m, axis\u001b[38;5;241m=\u001b[39maxis)\n\u001b[1;32m   4212\u001b[0m \u001b[38;5;66;03m# Forward filter.\u001b[39;00m\n\u001b[0;32m-> 4213\u001b[0m (y, zf) \u001b[38;5;241m=\u001b[39m lfilter(b, a, ext, axis\u001b[38;5;241m=\u001b[39maxis, zi\u001b[38;5;241m=\u001b[39mzi \u001b[38;5;241m*\u001b[39m x0)\n\u001b[1;32m   4215\u001b[0m \u001b[38;5;66;03m# Backward filter.\u001b[39;00m\n\u001b[1;32m   4216\u001b[0m \u001b[38;5;66;03m# Create y0 so zi*y0 broadcasts appropriately.\u001b[39;00m\n\u001b[1;32m   4217\u001b[0m y0 \u001b[38;5;241m=\u001b[39m axis_slice(y, start\u001b[38;5;241m=\u001b[39m\u001b[38;5;241m-\u001b[39m\u001b[38;5;241m1\u001b[39m, axis\u001b[38;5;241m=\u001b[39maxis)\n",
      "File \u001b[0;32m/opt/anaconda3/lib/python3.11/site-packages/scipy/signal/_signaltools.py:2146\u001b[0m, in \u001b[0;36mlfilter\u001b[0;34m(b, a, x, axis, zi)\u001b[0m\n\u001b[1;32m   2144\u001b[0m     \u001b[38;5;28;01mreturn\u001b[39;00m _sigtools\u001b[38;5;241m.\u001b[39m_linear_filter(b, a, x, axis)\n\u001b[1;32m   2145\u001b[0m \u001b[38;5;28;01melse\u001b[39;00m:\n\u001b[0;32m-> 2146\u001b[0m     \u001b[38;5;28;01mreturn\u001b[39;00m _sigtools\u001b[38;5;241m.\u001b[39m_linear_filter(b, a, x, axis, zi)\n",
      "\u001b[0;31mKeyboardInterrupt\u001b[0m: "
     ]
    }
   ],
   "source": [
    "process_folders_in_batches(folders, batch_num=0)"
   ]
  },
  {
   "cell_type": "code",
   "execution_count": 5,
   "metadata": {},
   "outputs": [
    {
     "data": {
      "text/html": [
       "<div>\n",
       "<style scoped>\n",
       "    .dataframe tbody tr th:only-of-type {\n",
       "        vertical-align: middle;\n",
       "    }\n",
       "\n",
       "    .dataframe tbody tr th {\n",
       "        vertical-align: top;\n",
       "    }\n",
       "\n",
       "    .dataframe thead th {\n",
       "        text-align: right;\n",
       "    }\n",
       "</style>\n",
       "<table border=\"1\" class=\"dataframe\">\n",
       "  <thead>\n",
       "    <tr style=\"text-align: right;\">\n",
       "      <th></th>\n",
       "    </tr>\n",
       "  </thead>\n",
       "  <tbody>\n",
       "  </tbody>\n",
       "</table>\n",
       "</div>"
      ],
      "text/plain": [
       "Empty DataFrame\n",
       "Columns: []\n",
       "Index: []"
      ]
     },
     "execution_count": 5,
     "metadata": {},
     "output_type": "execute_result"
    }
   ],
   "source": [
    "all_data_df = pd.DataFrame(all_data)\n",
    "all_data_df.head()"
   ]
  },
  {
   "cell_type": "code",
   "execution_count": null,
   "metadata": {},
   "outputs": [],
   "source": [
    "# # Create DataFrame and save as CSV\n",
    "# if all_data:\n",
    "#     df = pd.DataFrame(all_data)\n",
    "#     df.to_csv(output_file, index=False)\n",
    "#     print(f\"Processing complete. CSV saved to {output_file}\")\n",
    "# else:\n",
    "#     print(\"No data was processed. CSV was not created.\")"
   ]
  }
 ],
 "metadata": {
  "kernelspec": {
   "display_name": "base",
   "language": "python",
   "name": "python3"
  },
  "language_info": {
   "codemirror_mode": {
    "name": "ipython",
    "version": 3
   },
   "file_extension": ".py",
   "mimetype": "text/x-python",
   "name": "python",
   "nbconvert_exporter": "python",
   "pygments_lexer": "ipython3",
   "version": "3.11.8"
  }
 },
 "nbformat": 4,
 "nbformat_minor": 2
}
